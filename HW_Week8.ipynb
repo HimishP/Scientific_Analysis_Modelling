{
 "cells": [
  {
   "cell_type": "markdown",
   "metadata": {},
   "source": [
    "# PHYS 20323/60323 Homework Week 8\n",
    "\n",
    "FALL 2022\n"
   ]
  },
  {
   "cell_type": "markdown",
   "metadata": {},
   "source": [
    "### 1) Altitude of a satellite\n",
    "\n",
    "A satellite is to be launched into a circular orbit around the Earth so that it orbits the planet once every T seconds.\n",
    "\n",
    "The altitude h above the Earth’s surface that the satellite must have is:\n",
    "\n",
    "$$h = \\left( \\frac{G M T^2}{4\\pi^2} \\right)^{1/3} - R$$\n",
    "\n",
    "where $G = 6.67 \\times 10^{-11}$ m$^3$ kg$^{-1}$ s$^{-2}$\n",
    "is Newton's gravitational constant, $M = 5.97 \\times 10^{24}$ kg is the mass of the Earth, and $R = 6371$ km is its radius.\n",
    "\n",
    "#### Write a program that asks the user to enter the desired value of T and then calculates and prints out the correct altitude in meters.\n"
   ]
  },
  {
   "cell_type": "code",
   "execution_count": null,
   "metadata": {},
   "outputs": [],
   "source": [
    "import numpy as np\n",
    "T = float(input(\"T value in seconds: \"))\n",
    "h = ((6.67*(10**(-11))*(5.97*10**24)*(T**2))/(4*np.pi**2))**(1/3)-6371000\n",
    "print(\"The altitude of the satelite above the Earth's surface is (drumroll!)\")\n",
    "print(h,\"m\")"
   ]
  },
  {
   "cell_type": "markdown",
   "metadata": {},
   "source": [
    "Use your program to calculate the altitudes of satellites that orbit the Earth once\n",
    "a day (so-called “geosynchronous” orbit), once every 90 minutes, and once every\n",
    "45 minutes. What do you conclude from the last of these calculations?\n",
    "\n",
    "\n",
    "\n"
   ]
  },
  {
   "cell_type": "markdown",
   "metadata": {},
   "source": [
    "The satellite that orbits the Earth every 90 minutes must be about 280km above the surface of the Earth. On the other hand, the satellite that orbits Earth every 45 minutes must be about 2200km under the surface - which is impossible."
   ]
  },
  {
   "cell_type": "markdown",
   "metadata": {},
   "source": [
    "Technically a geosynchronous satellite is one that orbits the Earth once persidereal\n",
    "day, which is 23.93 hours, not 24 hours. Why is this? And how much difference\n",
    "will it make to the altitude of the satellite?"
   ]
  },
  {
   "cell_type": "markdown",
   "metadata": {},
   "source": [
    "The sidereal day takes into account Earth's motion around the Sun. For a satellite to be geosynchronous, it must travel with the Earth. Thus, it must take into account Earth's orbital motion. Therefore, the satellite must orbit the Earth every 23.93 hours, which is about 4 minutes shorter than 24 hours. Nonetheless, it does not make much difference to the altitude of the satellite. For a satellite to orbit the Earth once per sidereal day, it must have an altitude of about 35774km. On the other hand, for one to orbit the Earth once every 24 hours, it must have an altitude of about 35856km."
   ]
  },
  {
   "cell_type": "markdown",
   "metadata": {},
   "source": [
    "### 2) Special Relativity\n",
    "\n",
    "A spaceship travels from Earth in a straight line at a (relativistic)\n",
    "speed $v$ to another planet $x$ light years away. Write a program to ask\n",
    "the user for the value of $x$ and the speed $v$ as a fraction of the speed\n",
    "of light, then print out the time in years that the spaceship takes to\n",
    "reach its destination (a) in the rest frame of an observer on Earth\n",
    "and (b) as perceived by a passenger on board the ship.\n",
    "\n",
    "$$x' = \\gamma (x - vt)$$\n",
    "\n",
    "$$t' = \\gamma \\left(t - \\frac{v x}{c^2}\\right)$$\n",
    "\n",
    "$$\\gamma = \\frac{1}{\\sqrt{1 - \\frac{v^2}{c^2}}}$$\n"
   ]
  },
  {
   "cell_type": "code",
   "execution_count": null,
   "metadata": {},
   "outputs": [],
   "source": []
  },
  {
   "cell_type": "markdown",
   "metadata": {},
   "source": [
    "#### Use your program to calculate the answers for a planet 10 light years away with $v = 0.90c$,  $v = 0.98c$, $v = 0.999c$."
   ]
  },
  {
   "cell_type": "code",
   "execution_count": null,
   "metadata": {},
   "outputs": [],
   "source": []
  },
  {
   "cell_type": "markdown",
   "metadata": {},
   "source": [
    "### 3) The quadratic equation\n",
    "\n",
    " Write a program that takes as input three numbers, $a$, $b$, and $c$, and prints out the two solutions to the quadratic equation $ax^2 + bx + c = 0$ using the standard\n",
    "formula:\n",
    "\n",
    "$$x = \\frac{-b \\pm \\sqrt{b^2 - 4ac}}{2a}$$\n",
    "\n",
    "Use your program to compute the solutions of $0.001x^2 + 1000x + 0.001 = 0$."
   ]
  },
  {
   "cell_type": "code",
   "execution_count": 3,
   "metadata": {},
   "outputs": [
    {
     "name": "stdout",
     "output_type": "stream",
     "text": [
      "coefficient of x squared: 0.001\n",
      "coefficient of x: 1000\n",
      "y-intercept 0.001\n",
      "Do you want the quadratic equation's answer? cool\n",
      "-9.999894245993346e-07 -999999.999999\n",
      "Using different formula?\n",
      "-1.000000000001e-06 -1000010.5755125057\n"
     ]
    }
   ],
   "source": [
    "import numpy as np\n",
    "a = float(input(\"coefficient of x squared: \"))\n",
    "b = float(input(\"coefficient of x: \"))\n",
    "c = float(input(\"y-intercept \"))\n",
    "x_1 = (-b + (np.sqrt(((b**2)-(4*a*c)))))/(2*a)\n",
    "x_2 = (-b - (np.sqrt(((b**2)-(4*a*c)))))/(2*a)\n",
    "print(\"Do you want the quadratic equation's answer? cool\")\n",
    "print(x_1, x_2)\n",
    "x_3 = (2*c / (-b - np.sqrt(((b**2)-(4*a*c)))))\n",
    "x_4 = (2*c / (-b + np.sqrt(((b**2)-(4*a*c)))))\n",
    "print(\"Using different formula?\")\n",
    "print(x_3, x_4)\n",
    "    "
   ]
  },
  {
   "cell_type": "markdown",
   "metadata": {},
   "source": [
    "There is another way to write the solutions to a quadratic equation. Multiplying top and bottom of the solution above by $-b \\mp \\sqrt{b^2 - 4ac}$, show that the solutions\n",
    "can also be written as:\n",
    "\n",
    "$$x = \\frac{2c}{-b \\mp \\sqrt{b^2 - 4ac}}$$\n",
    "\n",
    "Add further lines to your program to print these values in addition to the earlier ones and again use the program to solve $0.001x^2 + 1000x + 0.001 = 0$. What do you see? How do you explain it?"
   ]
  },
  {
   "cell_type": "markdown",
   "metadata": {},
   "source": [
    "# Using what you have learned, write a new program that calculates both roots of a quadratic equation accurately in all cases."
   ]
  },
  {
   "cell_type": "code",
   "execution_count": 9,
   "metadata": {},
   "outputs": [
    {
     "name": "stdout",
     "output_type": "stream",
     "text": [
      "coefficient of x squared: 0.001\n",
      "coefficient of x: 1000\n",
      "y-intercept 0.001\n",
      "The x values are\n",
      "-1.000000000001e-06 -999999.999999\n"
     ]
    }
   ],
   "source": [
    "import numpy as np\n",
    "a = float(input(\"coefficient of x squared: \"))\n",
    "b = float(input(\"coefficient of x: \"))\n",
    "c = float(input(\"y-intercept \"))\n",
    "x_1 = (-b + (np.sqrt(((b**2)-(4*a*c)))))/(2*a)\n",
    "x_2 = (-b - (np.sqrt(((b**2)-(4*a*c)))))/(2*a)\n",
    "x_3 = (2*c / (-b - np.sqrt(((b**2)-(4*a*c)))))\n",
    "x_4 = (2*c / (-b + np.sqrt(((b**2)-(4*a*c)))))\n",
    "\n",
    "def equation(x):\n",
    "    return a*(x**2)+b*(x)+c\n",
    "\n",
    "def isCloser(x1, x2):\n",
    "    if abs(equation(x1)) <= abs(equation(x2)):\n",
    "        return x1\n",
    "    else:\n",
    "        return x2\n",
    "print(\"The x values are\")\n",
    "print(isCloser(x_1, x_3), isCloser(x_2, x_4))    "
   ]
  },
  {
   "cell_type": "code",
   "execution_count": null,
   "metadata": {},
   "outputs": [],
   "source": []
  }
 ],
 "metadata": {
  "kernelspec": {
   "display_name": "Python 3 (ipykernel)",
   "language": "python",
   "name": "python3"
  },
  "language_info": {
   "codemirror_mode": {
    "name": "ipython",
    "version": 3
   },
   "file_extension": ".py",
   "mimetype": "text/x-python",
   "name": "python",
   "nbconvert_exporter": "python",
   "pygments_lexer": "ipython3",
   "version": "3.9.12"
  }
 },
 "nbformat": 4,
 "nbformat_minor": 4
}
